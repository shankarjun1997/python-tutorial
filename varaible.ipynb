{
 "cells": [
  {
   "cell_type": "code",
   "execution_count": 13,
   "metadata": {},
   "outputs": [
    {
     "name": "stdout",
     "output_type": "stream",
     "text": [
      "<class 'str'>\n",
      "<class 'int'>\n"
     ]
    }
   ],
   "source": [
    "first_name, marks = ['nithish',80]\n",
    "print(type(first_name))\n",
    "print(type(marks))\n"
   ]
  },
  {
   "cell_type": "code",
   "execution_count": 20,
   "metadata": {},
   "outputs": [
    {
     "name": "stdout",
     "output_type": "stream",
     "text": [
      "3.14\n",
      "c**2 = a**2 + b**2\n"
     ]
    }
   ],
   "source": [
    "import main\n",
    "print(main.pi)\n",
    "print(main.p_theorem)"
   ]
  },
  {
   "cell_type": "code",
   "execution_count": 15,
   "metadata": {},
   "outputs": [
    {
     "name": "stdout",
     "output_type": "stream",
     "text": [
      "3.141592653589793\n"
     ]
    }
   ],
   "source": [
    "import math \n",
    "print(math.pi)"
   ]
  },
  {
   "cell_type": "code",
   "execution_count": 22,
   "metadata": {},
   "outputs": [
    {
     "name": "stdout",
     "output_type": "stream",
     "text": [
      "the num is  10 is positive number\n"
     ]
    }
   ],
   "source": [
    "num = int(input(\"enter a number \"))\n",
    "if num > 0:\n",
    "    print('the num is ',num, 'is', 'positive number')\n",
    "else:\n",
    "    print('the num is ',num, 'is', 'negative number')"
   ]
  },
  {
   "cell_type": "code",
   "execution_count": 25,
   "metadata": {},
   "outputs": [
    {
     "data": {
      "text/plain": [
       "[0, 1, 2, 3, 4, 5, 6, 7, 8, 9, 10, 11, 12, 13, 14, 15, 16, 17, 18, 19, 20]"
      ]
     },
     "execution_count": 25,
     "metadata": {},
     "output_type": "execute_result"
    }
   ],
   "source": [
    "numbers = [i for i in range(21)]\n",
    "numbers"
   ]
  },
  {
   "cell_type": "code",
   "execution_count": 27,
   "metadata": {},
   "outputs": [
    {
     "name": "stdout",
     "output_type": "stream",
     "text": [
      "[0, 2, 4, 6, 8, 10, 12, 14, 16, 18, 20] \n",
      " [1, 3, 5, 7, 9, 11, 13, 15, 17, 19]\n"
     ]
    }
   ],
   "source": [
    "even_numbers = []\n",
    "odd_numbers = []\n",
    "\n",
    "for i in numbers:\n",
    "    if i%2 == 0:\n",
    "        even_numbers.append(i)\n",
    "    else:\n",
    "        odd_numbers.append(i)\n",
    "\n",
    "print(even_numbers,'\\n',odd_numbers)"
   ]
  },
  {
   "cell_type": "code",
   "execution_count": 2,
   "metadata": {},
   "outputs": [
    {
     "name": "stdout",
     "output_type": "stream",
     "text": [
      "Hello from summation!\n"
     ]
    }
   ],
   "source": [
    "def summation():\n",
    "    print(\"Hello from summation!\")\n",
    "\n",
    "summation()"
   ]
  },
  {
   "cell_type": "markdown",
   "metadata": {},
   "source": [
    "1.7 Functions\n",
    "\n",
    "Reusable blocks of code.\n",
    "Example:\n",
    "\n",
    "def greet(name):\n",
    "    return f\"Hello, {name}!\"\n",
    "\n",
    "print(greet(\"Shankar\"))"
   ]
  },
  {
   "cell_type": "code",
   "execution_count": 26,
   "metadata": {},
   "outputs": [
    {
     "name": "stdout",
     "output_type": "stream",
     "text": [
      "Hello,  Cpt.Marvel !\n",
      "Hello,  Stark !\n",
      "None\n"
     ]
    }
   ],
   "source": [
    "names = [ 'Cpt.Marvel','Stark']\n",
    "final_yrs = ['nithish', 'Tanush','Don']\n",
    "def greet(name):\n",
    "    for i in name:\n",
    "        print(\"Hello, \",i,\"!\")\n",
    "\n",
    "print(greet(names))"
   ]
  },
  {
   "cell_type": "code",
   "execution_count": null,
   "metadata": {},
   "outputs": [
    {
     "name": "stdout",
     "output_type": "stream",
     "text": [
      "Hello,  Cpt.Marvel !\n",
      "Hello,  Stark !\n"
     ]
    }
   ],
   "source": [
    "names = ['Cpt.Marvel','Stark']\n",
    "for i in names:\n",
    "    print(\"Hello, \",i,\"!\")"
   ]
  },
  {
   "cell_type": "code",
   "execution_count": 13,
   "metadata": {},
   "outputs": [
    {
     "name": "stdout",
     "output_type": "stream",
     "text": [
      "Hello,  nithish !\n",
      "Hello,  Tanush !\n",
      "Hello,  Don !\n",
      "None\n"
     ]
    }
   ],
   "source": [
    "print(greet(final_yrs))"
   ]
  },
  {
   "cell_type": "code",
   "execution_count": 20,
   "metadata": {},
   "outputs": [
    {
     "name": "stdout",
     "output_type": "stream",
     "text": [
      "<class 'list'>\n"
     ]
    }
   ],
   "source": [
    "list_numbers = [1,1,2,2,3,5,7,9,89,34,34]\n",
    "deduplication = list(set(list_numbers))\n",
    "print(type(deduplication))"
   ]
  },
  {
   "cell_type": "code",
   "execution_count": 31,
   "metadata": {},
   "outputs": [
    {
     "name": "stdout",
     "output_type": "stream",
     "text": [
      "None\n",
      "['Cpt.Marvel', 'Stark', 12, 12, 12, 'nithish', 'Tanush', 'Don']\n"
     ]
    }
   ],
   "source": [
    "print(names.extend(final_yrs))\n",
    "print(names)"
   ]
  },
  {
   "cell_type": "code",
   "execution_count": null,
   "metadata": {},
   "outputs": [
    {
     "name": "stdout",
     "output_type": "stream",
     "text": [
      "result for numbers.append(14)\n",
      "\n",
      "[0, 1, 2, 3, 4, 5, 6, 7, 8, 9, 10, 11, 12, 13, 14, 15, 16, 17, 18, 19, 20, 14]\n",
      "result for numbers.pop(4)\n",
      "\n",
      "[0, 1, 2, 3, 5, 6, 7, 8, 9, 10, 11, 12, 13, 14, 15, 16, 17, 18, 19, 20]\n",
      "result for numbers.remove(14)\n",
      "\n",
      "[0, 1, 2, 3, 4, 5, 6, 7, 8, 9, 10, 11, 12, 13, 15, 16, 17, 18, 19, 20]\n",
      "result for numbers.extend(names)\n",
      "\n",
      "[0, 1, 2, 3, 4, 5, 6, 7, 8, 9, 10, 11, 12, 13, 14, 15, 16, 17, 18, 19, 20, 'Cpt.Marvel', 'Stark', 12, 12, 12, 'nithish', 'Tanush', 'Don']\n",
      "result for numbers.count(14)\n",
      "\n",
      "[0, 1, 2, 3, 4, 5, 6, 7, 8, 9, 10, 11, 12, 13, 14, 15, 16, 17, 18, 19, 20]\n",
      "result for numbers.insert(14,5)\n",
      "\n",
      "[0, 1, 2, 3, 4, 5, 6, 7, 8, 9, 10, 11, 12, 13, 5, 14, 15, 16, 17, 18, 19, 20]\n",
      "result for numbers.index(1)\n",
      "\n",
      "[0, 1, 2, 3, 4, 5, 6, 7, 8, 9, 10, 11, 12, 13, 14, 15, 16, 17, 18, 19, 20]\n",
      "result for new_list = numbers.copy()\n",
      "\n"
     ]
    }
   ],
   "source": [
    "numbers = [i for i in range(21)]\n",
    "numbers.append(14)\n",
    "print(\"result for numbers.append(14)\\n\")\n",
    "print(numbers)\n",
    "\n",
    "numbers = [i for i in range(21)]\n",
    "numbers.pop(4)\n",
    "print(\"result for numbers.pop(4)\\n\")\n",
    "print(numbers)\n",
    "\n",
    "numbers = [i for i in range(21)]\n",
    "numbers.remove(14)\n",
    "print(\"result for numbers.remove(14)\\n\")\n",
    "print(numbers)\n",
    "\n",
    "numbers = [i for i in range(21)]\n",
    "del numbers[2]\n",
    "numbers = [i for i in range(21)]\n",
    "numbers.extend(names)\n",
    "print(\"result for numbers.extend(names)\\n\")\n",
    "print(numbers)\n",
    "\n",
    "numbers = [i for i in range(21)]\n",
    "numbers.count(14)\n",
    "print(\"result for numbers.count(14)\\n\")\n",
    "print(numbers)\n",
    "\n",
    "numbers = [i for i in range(21)]\n",
    "numbers.insert(14,5)\n",
    "print(\"result for numbers.insert(14,5)\\n\")\n",
    "print(numbers)\n",
    "\n",
    "numbers = [i for i in range(21)]\n",
    "numbers.index(1)\n",
    "print(\"result for numbers.index(1)\\n\")\n",
    "print(numbers)\n",
    "\n",
    "new_list = numbers.copy()\n",
    "print(\"result for new_list = numbers.copy()\\n\")\n",
    "new_list = numbers[:]\n",
    "\n",
    "new_list = list[numbers]\n",
    "\n",
    "\n"
   ]
  },
  {
   "cell_type": "code",
   "execution_count": null,
   "metadata": {},
   "outputs": [],
   "source": []
  }
 ],
 "metadata": {
  "kernelspec": {
   "display_name": "base",
   "language": "python",
   "name": "python3"
  },
  "language_info": {
   "codemirror_mode": {
    "name": "ipython",
    "version": 3
   },
   "file_extension": ".py",
   "mimetype": "text/x-python",
   "name": "python",
   "nbconvert_exporter": "python",
   "pygments_lexer": "ipython3",
   "version": "3.12.7"
  }
 },
 "nbformat": 4,
 "nbformat_minor": 2
}
